{
 "cells": [
  {
   "cell_type": "code",
   "execution_count": 1,
   "metadata": {},
   "outputs": [],
   "source": [
    "import torch"
   ]
  },
  {
   "cell_type": "code",
   "execution_count": 8,
   "metadata": {},
   "outputs": [
    {
     "name": "stdout",
     "output_type": "stream",
     "text": [
      "tensor([[1, 2],\n",
      "        [3, 4],\n",
      "        [5, 6]])\n"
     ]
    }
   ],
   "source": [
    "import torch\n",
    "\n",
    "\n",
    "tensor = torch.tensor([[1, 2, 3], [4, 5, 6]])\n",
    "\n",
    "reshaped_tensor = tensor.reshape(3, 2)\n",
    "print(reshaped_tensor)\n"
   ]
  },
  {
   "cell_type": "code",
   "execution_count": 9,
   "metadata": {},
   "outputs": [
    {
     "name": "stdout",
     "output_type": "stream",
     "text": [
      "tensor([[[ 1,  2,  3],\n",
      "         [ 4,  5,  6]],\n",
      "\n",
      "        [[ 7,  8,  9],\n",
      "         [10, 11, 12]]])\n"
     ]
    }
   ],
   "source": [
    "tensor1 = torch.tensor([[1, 2, 3], [4, 5, 6]])\n",
    "tensor2 = torch.tensor([[7, 8, 9], [10, 11, 12]])\n",
    "\n",
    "stacked_tensor = torch.stack((tensor1, tensor2), dim=0)\n",
    "print(stacked_tensor)"
   ]
  },
  {
   "cell_type": "code",
   "execution_count": 15,
   "metadata": {},
   "outputs": [
    {
     "name": "stdout",
     "output_type": "stream",
     "text": [
      "tensor([[1, 2],\n",
      "        [3, 4],\n",
      "        [5, 6]])\n",
      "torch.Size([3, 2])\n"
     ]
    }
   ],
   "source": [
    "\n",
    "tensor = torch.tensor([[[[1, 2]], [[3, 4]], [[5, 6]]]])\n",
    "\n",
    "\n",
    "squeezed_tensor = tensor.squeeze()\n",
    "print(squeezed_tensor)\n",
    "print(squeezed_tensor.shape)  \n"
   ]
  },
  {
   "cell_type": "code",
   "execution_count": 16,
   "metadata": {},
   "outputs": [
    {
     "name": "stdout",
     "output_type": "stream",
     "text": [
      "torch.Size([1, 3, 2])\n"
     ]
    }
   ],
   "source": [
    "tensor = torch.tensor([[1, 2], [3, 4], [5, 6]])\n",
    "\n",
    "unsqueezed_tensor = tensor.unsqueeze(0)\n",
    "print(unsqueezed_tensor.shape)  "
   ]
  },
  {
   "cell_type": "code",
   "execution_count": 17,
   "metadata": {},
   "outputs": [],
   "source": [
    "#q2\n",
    "\n",
    "tensor = torch.tensor([[[1, 2, 3, 4], [5, 6, 7, 8], [9, 10, 11, 12]],\n",
    "                      [[13, 14, 15, 16], [17, 18, 19, 20], [21, 22, 23, 24]]])"
   ]
  },
  {
   "cell_type": "code",
   "execution_count": 18,
   "metadata": {},
   "outputs": [
    {
     "name": "stdout",
     "output_type": "stream",
     "text": [
      "\n",
      "Permuted tensor shape: torch.Size([4, 2, 3])\n",
      "Permuted tensor:\n",
      "tensor([[[ 1,  5,  9],\n",
      "         [13, 17, 21]],\n",
      "\n",
      "        [[ 2,  6, 10],\n",
      "         [14, 18, 22]],\n",
      "\n",
      "        [[ 3,  7, 11],\n",
      "         [15, 19, 23]],\n",
      "\n",
      "        [[ 4,  8, 12],\n",
      "         [16, 20, 24]]])\n"
     ]
    }
   ],
   "source": [
    "\n",
    "permuted_tensor = tensor.permute(2, 0, 1)  # New order of dimensions (4, 2, 3)\n",
    "\n",
    "print(\"\\nPermuted tensor shape:\", permuted_tensor.shape)\n",
    "print(\"Permuted tensor:\")\n",
    "print(permuted_tensor)"
   ]
  },
  {
   "cell_type": "code",
   "execution_count": 20,
   "metadata": {},
   "outputs": [
    {
     "name": "stdout",
     "output_type": "stream",
     "text": [
      "Original tensor:\n",
      "tensor([[ 1,  2,  3,  4],\n",
      "        [ 5,  6,  7,  8],\n",
      "        [ 9, 10, 11, 12]])\n",
      "\n",
      "Element at (0, 2): tensor(3)\n",
      "Element at (2, 1): tensor(10)\n"
     ]
    }
   ],
   "source": [
    "#q3\n",
    "\n",
    "tensor = torch.tensor([[1, 2, 3, 4],\n",
    "                       [5, 6, 7, 8],\n",
    "                       [9, 10, 11, 12]])\n",
    "\n",
    "print(\"Original tensor:\")\n",
    "print(tensor)\n",
    "\n",
    "\n",
    "print(\"\\nElement at (0, 2):\", tensor[0, 2])  \n",
    "\n",
    "\n",
    "print(\"Element at (2, 1):\", tensor[2, 1]) \n"
   ]
  },
  {
   "cell_type": "code",
   "execution_count": 22,
   "metadata": {},
   "outputs": [
    {
     "name": "stdout",
     "output_type": "stream",
     "text": [
      "NumPy Array:\n",
      "[[1 2 3]\n",
      " [4 5 6]]\n",
      "\n",
      "Converted PyTorch Tensor:\n",
      "tensor([[1, 2, 3],\n",
      "        [4, 5, 6]])\n"
     ]
    }
   ],
   "source": [
    "#q4\n",
    "import numpy as np\n",
    "\n",
    "numpy_array = np.array([[1, 2, 3], [4, 5, 6]])\n",
    "\n",
    "tensor = torch.tensor(numpy_array)\n",
    "\n",
    "print(\"NumPy Array:\")\n",
    "print(numpy_array)\n",
    "print(\"\\nConverted PyTorch Tensor:\")\n",
    "print(tensor)"
   ]
  },
  {
   "cell_type": "code",
   "execution_count": 23,
   "metadata": {},
   "outputs": [
    {
     "name": "stdout",
     "output_type": "stream",
     "text": [
      "\n",
      "Converted back to NumPy Array:\n",
      "[[1 2 3]\n",
      " [4 5 6]]\n"
     ]
    }
   ],
   "source": [
    "\n",
    "converted_numpy_array = tensor.numpy()\n",
    "\n",
    "print(\"\\nConverted back to NumPy Array:\")\n",
    "print(converted_numpy_array)\n"
   ]
  },
  {
   "cell_type": "code",
   "execution_count": 24,
   "metadata": {},
   "outputs": [
    {
     "name": "stdout",
     "output_type": "stream",
     "text": [
      "tensor([[6.8229e-01, 5.9991e-01, 2.4928e-01, 3.1391e-01, 7.9773e-01, 6.5766e-02,\n",
      "         3.5743e-01],\n",
      "        [8.6184e-01, 1.0489e-01, 6.4127e-01, 6.1665e-01, 5.5711e-01, 6.1080e-01,\n",
      "         2.3498e-01],\n",
      "        [4.5348e-01, 1.9939e-01, 5.3917e-01, 2.9446e-01, 5.1866e-01, 4.3579e-01,\n",
      "         5.1640e-01],\n",
      "        [3.8133e-01, 9.0318e-01, 1.5636e-01, 4.3153e-02, 1.8840e-01, 3.0273e-02,\n",
      "         8.5969e-01],\n",
      "        [6.7783e-01, 6.1948e-01, 6.4274e-01, 8.7747e-01, 8.0782e-04, 1.6470e-01,\n",
      "         9.2180e-01],\n",
      "        [5.5812e-01, 8.0828e-01, 3.6762e-01, 3.5456e-01, 8.1281e-01, 6.0791e-02,\n",
      "         2.2263e-01],\n",
      "        [3.0678e-01, 2.6425e-02, 6.8061e-01, 2.9340e-01, 9.9727e-01, 9.1092e-01,\n",
      "         8.9383e-01]])\n"
     ]
    }
   ],
   "source": [
    "#q5\n",
    "random_tensor = torch.rand(7, 7)\n",
    "\n",
    "print(random_tensor)"
   ]
  },
  {
   "cell_type": "code",
   "execution_count": 34,
   "metadata": {},
   "outputs": [
    {
     "name": "stdout",
     "output_type": "stream",
     "text": [
      "Given Tensor (2, 7):\n",
      "tensor([[0.5481, 0.4406, 0.1086, 0.7525, 0.6797, 0.3918, 0.5174],\n",
      "        [0.7650, 0.9777, 0.9185, 0.6510, 0.1338, 0.3980, 0.7673]])\n",
      "\n",
      "Random Tensor (1, 7):\n",
      "tensor([[0.4146, 0.9097, 0.0088, 0.2581, 0.5355, 0.3094, 0.4316]])\n",
      "\n",
      "Result of Element-wise Multiplication:\n",
      "tensor([[0.2272, 0.4008, 0.0010, 0.1942, 0.3640, 0.1212, 0.2233],\n",
      "        [0.3171, 0.8894, 0.0081, 0.1681, 0.0717, 0.1232, 0.3312]])\n"
     ]
    }
   ],
   "source": [
    "#q6\n",
    "\n",
    "given_tensor = torch.rand(2, 7)\n",
    "random_tensor = torch.rand(1, 7)\n",
    "result_tensor = given_tensor * random_tensor\n",
    "\n",
    "print(\"Given Tensor (2, 7):\")\n",
    "print(given_tensor)\n",
    "print(\"\\nRandom Tensor (1, 7):\")\n",
    "print(random_tensor)\n",
    "print(\"\\nResult of Element-wise Multiplication:\")\n",
    "print(result_tensor)"
   ]
  },
  {
   "cell_type": "code",
   "execution_count": 42,
   "metadata": {},
   "outputs": [
    {
     "name": "stdout",
     "output_type": "stream",
     "text": [
      "cpu\n",
      "Tensor 1  tensor([[0.2156, 0.9485, 0.4880],\n",
      "        [0.6567, 0.0781, 0.4553]])\n",
      "Tensor 2  tensor([[0.3846, 0.4716, 0.0318],\n",
      "        [0.9560, 0.5439, 0.5773]])\n"
     ]
    }
   ],
   "source": [
    "#q7\n",
    "tensor1 = torch.rand(2, 3)\n",
    "tensor2 = torch.rand(2, 3)\n",
    "\n",
    "\n",
    "device = torch.device('cuda' if torch.cuda.is_available() else 'cpu')\n",
    "print(device)\n",
    "tensor1 = tensor1.to(device)\n",
    "tensor2 = tensor2.to(device)\n",
    "\n",
    "print(\"Tensor 1 \", tensor1)\n",
    "print(\"Tensor 2 \", tensor2)"
   ]
  },
  {
   "cell_type": "code",
   "execution_count": 39,
   "metadata": {},
   "outputs": [
    {
     "name": "stdout",
     "output_type": "stream",
     "text": [
      "Given Tensor (2, 7):\n",
      "tensor([[0.5481, 0.4406, 0.1086, 0.7525, 0.6797, 0.3918, 0.5174],\n",
      "        [0.7650, 0.9777, 0.9185, 0.6510, 0.1338, 0.3980, 0.7673]])\n",
      "\n",
      "Random Tensor (1, 7):\n",
      "tensor([[0.4146, 0.9097, 0.0088, 0.2581, 0.5355, 0.3094, 0.4316]])\n",
      "\n",
      "Result of Matrix Multiplication (2, 1):\n",
      "tensor([[1.5318],\n",
      "        [1.9087]])\n"
     ]
    }
   ],
   "source": [
    "#q8\n",
    "\n",
    "random_tensor_transposed = random_tensor.T  \n",
    "result_matrix = torch.mm(given_tensor, random_tensor_transposed)\n",
    "print(\"Given Tensor (2, 7):\")\n",
    "print(given_tensor)\n",
    "print(\"\\nRandom Tensor (1, 7):\")\n",
    "print(random_tensor)\n",
    "print(\"\\nResult of Matrix Multiplication (2, 1):\")\n",
    "print(result_matrix)\n"
   ]
  },
  {
   "cell_type": "code",
   "execution_count": 40,
   "metadata": {},
   "outputs": [
    {
     "name": "stdout",
     "output_type": "stream",
     "text": [
      "tensor(0.8025) tensor(0.9923)\n",
      "tensor(0.0086) tensor(0.1560)\n"
     ]
    }
   ],
   "source": [
    "#q9\n",
    "max_tensor1, min_tensor1 = tensor1.max(), tensor1.min()\n",
    "max_tensor2, min_tensor2 = tensor2.max(), tensor2.min()\n",
    "print(max_tensor1,max_tensor2)\n",
    "print(min_tensor1,min_tensor2)"
   ]
  },
  {
   "cell_type": "code",
   "execution_count": 41,
   "metadata": {},
   "outputs": [
    {
     "name": "stdout",
     "output_type": "stream",
     "text": [
      "Tensor 1:\n",
      "tensor([[0.8025, 0.1424, 0.0086],\n",
      "        [0.1720, 0.5594, 0.3486]])\n",
      "Max value indices for tensor1: tensor([0, 1])\n",
      "Min value indices for tensor1: tensor([2, 0])\n",
      "\n",
      "Tensor 2:\n",
      "tensor([[0.4190, 0.9923, 0.6818],\n",
      "        [0.2315, 0.1560, 0.3999]])\n",
      "Max value indices for tensor2: tensor([1, 2])\n",
      "Min value indices for tensor2: tensor([0, 1])\n"
     ]
    }
   ],
   "source": [
    "#q10\n",
    "\n",
    "\n",
    "max_val_tensor1, max_idx_tensor1 = tensor1.max(dim=1)\n",
    "min_val_tensor1, min_idx_tensor1 = tensor1.min(dim=1)\n",
    "max_val_tensor2, max_idx_tensor2 = tensor2.max(dim=1)\n",
    "min_val_tensor2, min_idx_tensor2 = tensor2.min(dim=1)\n",
    "\n",
    "\n",
    "print(\"Tensor 1:\")\n",
    "print(tensor1)\n",
    "print(f\"Max value indices for tensor1: {max_idx_tensor1}\")\n",
    "print(f\"Min value indices for tensor1: {min_idx_tensor1}\\n\")\n",
    "print(\"Tensor 2:\")\n",
    "print(tensor2)\n",
    "print(f\"Max value indices for tensor2: {max_idx_tensor2}\")\n",
    "print(f\"Min value indices for tensor2: {min_idx_tensor2}\")"
   ]
  },
  {
   "cell_type": "code",
   "execution_count": null,
   "metadata": {},
   "outputs": [],
   "source": []
  },
  {
   "cell_type": "code",
   "execution_count": null,
   "metadata": {},
   "outputs": [],
   "source": []
  }
 ],
 "metadata": {
  "kernelspec": {
   "display_name": "DLLAB",
   "language": "python",
   "name": "python3"
  },
  "language_info": {
   "codemirror_mode": {
    "name": "ipython",
    "version": 3
   },
   "file_extension": ".py",
   "mimetype": "text/x-python",
   "name": "python",
   "nbconvert_exporter": "python",
   "pygments_lexer": "ipython3",
   "version": "3.12.3"
  }
 },
 "nbformat": 4,
 "nbformat_minor": 2
}
