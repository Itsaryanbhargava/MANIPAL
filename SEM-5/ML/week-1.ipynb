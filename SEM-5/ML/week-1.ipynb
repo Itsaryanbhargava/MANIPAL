{
  "cells": [
    {
      "cell_type": "code",
      "source": [
        "#Question1\n"
      ],
      "outputs": [],
      "execution_count": null,
      "metadata": {},
      "id": "1a7501f9"
    },
    {
      "cell_type": "code",
      "source": [
        "import numpy as np"
      ],
      "outputs": [],
      "execution_count": 2,
      "metadata": {},
      "id": "a69e4e2a"
    },
    {
      "cell_type": "code",
      "source": [
        "arry1 = np.array([0, 1, 2, 3, 4, 5, 6, 7, 8])"
      ],
      "outputs": [],
      "execution_count": 3,
      "metadata": {},
      "id": "9ad7d5dc"
    },
    {
      "cell_type": "code",
      "source": [
        "mat = arry1.reshape(3,3)\n",
        "print(mat)"
      ],
      "outputs": [
        {
          "output_type": "stream",
          "name": "stdout",
          "text": "[[0 1 2]\n [3 4 5]\n [6 7 8]]\n"
        }
      ],
      "execution_count": 5,
      "metadata": {},
      "id": "95c7f343"
    },
    {
      "cell_type": "code",
      "source": [
        "#Question2\n"
      ],
      "outputs": [],
      "execution_count": 6,
      "metadata": {},
      "id": "b52cee44"
    },
    {
      "cell_type": "code",
      "source": [
        "arry2 = np.array([0, 1, 2, 3, 4, 5, 6, 7, 8, 9])"
      ],
      "outputs": [],
      "execution_count": 7,
      "metadata": {},
      "id": "e5ba4fae"
    },
    {
      "cell_type": "code",
      "source": [
        "arry2[arry2%2!=0]=-1"
      ],
      "outputs": [],
      "execution_count": 8,
      "metadata": {},
      "id": "617fc109"
    },
    {
      "cell_type": "code",
      "source": [
        "print(arry2)"
      ],
      "outputs": [
        {
          "output_type": "stream",
          "name": "stdout",
          "text": "[ 0 -1  2 -1  4 -1  6 -1  8 -1]\n"
        }
      ],
      "execution_count": 9,
      "metadata": {},
      "id": "3df20d23"
    },
    {
      "cell_type": "code",
      "source": [
        "#Question3\n"
      ],
      "outputs": [],
      "execution_count": 10,
      "metadata": {},
      "id": "22433ce0"
    },
    {
      "cell_type": "code",
      "source": [
        "x = np.array([21, 64, 86, 22, 74, 55, 81, 79, 90, 89]) \n",
        "y = np.array([21, 7, 3, 45, 10, 29, 55, 4, 37, 18])"
      ],
      "outputs": [],
      "execution_count": 12,
      "metadata": {},
      "id": "603b79b1"
    },
    {
      "cell_type": "code",
      "source": [
        "greater_than = np.where(x>y)[0]\n",
        "equals = np.where(x==y)[0]"
      ],
      "outputs": [],
      "execution_count": 13,
      "metadata": {},
      "id": "6b4b0d00"
    },
    {
      "cell_type": "code",
      "source": [
        "print(greater_than, end=', ')\n",
        "print(equals)"
      ],
      "outputs": [
        {
          "output_type": "stream",
          "name": "stdout",
          "text": "[1 2 4 5 6 7 8 9], [0]\n"
        }
      ],
      "execution_count": 18,
      "metadata": {},
      "id": "3379b858"
    },
    {
      "cell_type": "code",
      "source": [
        "#Question4\n"
      ],
      "outputs": [],
      "execution_count": null,
      "metadata": {},
      "id": "6ea6d363"
    },
    {
      "cell_type": "code",
      "source": [
        "arry4 = np.arange(100).reshape(5,-1)"
      ],
      "outputs": [],
      "execution_count": 15,
      "metadata": {},
      "id": "e97006ec"
    },
    {
      "cell_type": "code",
      "source": [
        "arry4\n"
      ],
      "outputs": [
        {
          "output_type": "execute_result",
          "execution_count": 16,
          "data": {
            "text/plain": "array([[ 0,  1,  2,  3,  4,  5,  6,  7,  8,  9, 10, 11, 12, 13, 14, 15,\n        16, 17, 18, 19],\n       [20, 21, 22, 23, 24, 25, 26, 27, 28, 29, 30, 31, 32, 33, 34, 35,\n        36, 37, 38, 39],\n       [40, 41, 42, 43, 44, 45, 46, 47, 48, 49, 50, 51, 52, 53, 54, 55,\n        56, 57, 58, 59],\n       [60, 61, 62, 63, 64, 65, 66, 67, 68, 69, 70, 71, 72, 73, 74, 75,\n        76, 77, 78, 79],\n       [80, 81, 82, 83, 84, 85, 86, 87, 88, 89, 90, 91, 92, 93, 94, 95,\n        96, 97, 98, 99]])"
          },
          "metadata": {}
        }
      ],
      "execution_count": 16,
      "metadata": {},
      "id": "f01a2a71"
    },
    {
      "cell_type": "code",
      "source": [
        "first_four_columns = arry4[:, :4]\n",
        "print(first_four_columns)"
      ],
      "outputs": [
        {
          "output_type": "stream",
          "name": "stdout",
          "text": "[[ 0  1  2  3]\n [20 21 22 23]\n [40 41 42 43]\n [60 61 62 63]\n [80 81 82 83]]\n"
        }
      ],
      "execution_count": 17,
      "metadata": {},
      "id": "9f7c4fb0"
    },
    {
      "cell_type": "code",
      "source": [
        "#AD-1\n"
      ],
      "outputs": [],
      "execution_count": 19,
      "metadata": {},
      "id": "0b6288e7"
    },
    {
      "cell_type": "code",
      "source": [
        "random_array = np.random.randint(30, 41, size=10)\n",
        "print(random_array)"
      ],
      "outputs": [
        {
          "output_type": "stream",
          "name": "stdout",
          "text": "[31 34 39 39 34 35 40 33 34 36]\n"
        }
      ],
      "execution_count": 20,
      "metadata": {},
      "id": "ea1c3edf"
    },
    {
      "cell_type": "code",
      "source": [
        "#AD-2\n"
      ],
      "outputs": [],
      "execution_count": 21,
      "metadata": {},
      "id": "5c6ba1f4"
    },
    {
      "cell_type": "code",
      "source": [
        "A = np.array([[1, 2, 3], [4, 5, 6], [7, 8, 10]])\n",
        "B = np.array([[7, 8, 10], [4, 5, 6], [1, 2, 3]])"
      ],
      "outputs": [],
      "execution_count": 24,
      "metadata": {},
      "id": "932fe444"
    },
    {
      "cell_type": "code",
      "source": [
        "C = A + B\n",
        "E = A - B\n",
        "print(C)\n",
        "print(E)\n"
      ],
      "outputs": [
        {
          "output_type": "stream",
          "name": "stdout",
          "text": "[[ 8 10 13]\n [ 8 10 12]\n [ 8 10 13]]\n[[-6 -6 -7]\n [ 0  0  0]\n [ 6  6  7]]\n"
        }
      ],
      "execution_count": 27,
      "metadata": {},
      "id": "342609d1"
    },
    {
      "cell_type": "code",
      "source": [
        "sum_A = np.sum(A)\n",
        "sum_columns_B = np.sum(B, axis=0)\n",
        "sum_rows_C = np.sum(C, axis=1)\n",
        "D = np.dot(A, B)\n",
        "E_sorted = np.sort(C, axis=None).reshape(C.shape)\n",
        "E_transposed = np.transpose(E_sorted)"
      ],
      "outputs": [],
      "execution_count": 30,
      "metadata": {},
      "id": "cac3a35a"
    },
    {
      "cell_type": "code",
      "source": [
        "print(\"\\nSum of all elements of Matrix A:\")\n",
        "print(sum_A)\n",
        "print(\"\\nSum of each column of Matrix B:\")\n",
        "print(sum_columns_B)\n",
        "print(\"\\nSum of each row of Matrix C:\")\n",
        "print(sum_rows_C)\n",
        "\n",
        "print(\"\\nMatrix D (A * B):\")\n",
        "print(D)\n",
        "print(E_sorted)\n",
        "print(E_transposed)"
      ],
      "outputs": [
        {
          "output_type": "stream",
          "name": "stdout",
          "text": "\nSum of all elements of Matrix A:\n46\n\nSum of each column of Matrix B:\n[12 15 19]\n\nSum of each row of Matrix C:\n[31 30 31]\n\nMatrix D (A * B):\n[[ 18  24  31]\n [ 54  69  88]\n [ 91 116 148]]\n[[ 8  8  8]\n [10 10 10]\n [12 13 13]]\n[[ 8 10 12]\n [ 8 10 13]\n [ 8 10 13]]\n"
        }
      ],
      "execution_count": 31,
      "metadata": {},
      "id": "278f6eaa"
    },
    {
      "cell_type": "code",
      "source": [],
      "outputs": [],
      "execution_count": null,
      "metadata": {},
      "id": "4503b779"
    }
  ],
  "metadata": {
    "kernelspec": {
      "display_name": "Python 3 (ipykernel)",
      "language": "python",
      "name": "python3"
    },
    "language_info": {
      "codemirror_mode": {
        "name": "ipython",
        "version": 3
      },
      "file_extension": ".py",
      "mimetype": "text/x-python",
      "name": "python",
      "nbconvert_exporter": "python",
      "pygments_lexer": "ipython3",
      "version": "3.12.3"
    },
    "nteract": {
      "version": "nteract-front-end@1.0.0"
    }
  },
  "nbformat": 4,
  "nbformat_minor": 5
}